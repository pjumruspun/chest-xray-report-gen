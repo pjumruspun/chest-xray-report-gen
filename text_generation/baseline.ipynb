{
 "cells": [
  {
   "cell_type": "code",
   "execution_count": 1,
   "metadata": {},
   "outputs": [
    {
     "name": "stderr",
     "output_type": "stream",
     "text": [
      "2091lines [00:00, 190625.32lines/s]\n",
      "2091lines [00:00, 190592.18lines/s]\n"
     ]
    },
    {
     "name": "stdout",
     "output_type": "stream",
     "text": [
      "caller: c:\\Users\\darkenstardragon\\Documents\\Work\\chest-xray-report-gen\\text_generation\\pytorch_chexpert.py\n",
      "Creating Chexpert reward module...\n",
      "Using 1 GPUs!\n"
     ]
    }
   ],
   "source": [
    "import pandas as pd\n",
    "import torchvision.transforms as transforms\n",
    "\n",
    "from torch.utils.data import DataLoader\n",
    "from sklearn.neighbors import KNeighborsClassifier\n",
    "from sklearn.decomposition import PCA\n",
    "from configs import configs\n",
    "from dataset import ChestXRayCaptionDataset\n",
    "import torch\n",
    "from torch import nn\n",
    "import numpy as np\n",
    "import matplotlib.pyplot as plt\n",
    "from tqdm import tqdm\n",
    "from utils import train_transform, evaluate_transform\n",
    "from model import Chexnet\n",
    "from pytorch_tokenizer import create_tokenizer\n",
    "from pytorch_test import evaluation_matrix\n",
    "from pytorch_chexpert import chexpert\n",
    "from sklearn.metrics import recall_score, precision_score, f1_score"
   ]
  },
  {
   "cell_type": "code",
   "execution_count": 2,
   "metadata": {},
   "outputs": [
    {
     "name": "stderr",
     "output_type": "stream",
     "text": [
      "2091lines [00:00, 174731.33lines/s]\n"
     ]
    },
    {
     "name": "stdout",
     "output_type": "stream",
     "text": [
      "loading weights from weights/pretrained_encoder/pretrained_enc_2022-02-26_16-38-13.950274.pth.tar\n"
     ]
    }
   ],
   "source": [
    "tokenizer = create_tokenizer()\n",
    "encoder = Chexnet.finetuned()\n",
    "pca_mean = None\n",
    "pca_components = None\n",
    "train_loader = DataLoader(\n",
    "    ChestXRayCaptionDataset('train', transform=train_transform),\n",
    "    batch_size=8,\n",
    "    shuffle=False,\n",
    "    num_workers=0,\n",
    "    pin_memory=True,\n",
    ")\n",
    "\n",
    "val_loader = DataLoader(\n",
    "    ChestXRayCaptionDataset('val', transform=evaluate_transform),\n",
    "    batch_size=8,\n",
    "    shuffle=False,\n",
    "    num_workers=0,\n",
    "    pin_memory=True,\n",
    ")\n",
    "\n",
    "test_loader = DataLoader(\n",
    "    ChestXRayCaptionDataset('test', transform=evaluate_transform),\n",
    "    batch_size=8,\n",
    "    shuffle=False,\n",
    "    num_workers=0,\n",
    "    pin_memory=True,\n",
    ")"
   ]
  },
  {
   "cell_type": "code",
   "execution_count": 3,
   "metadata": {},
   "outputs": [],
   "source": [
    "def generate_image_embeddings(encoder, data_loader):\n",
    "    encoder.eval()\n",
    "    image_embeddings = []\n",
    "    probs = []\n",
    "    captions = []\n",
    "\n",
    "    with torch.no_grad():\n",
    "        for i, (img, caption, _) in enumerate(tqdm(data_loader)):\n",
    "            img = img.cuda()\n",
    "            encoded_img, prob = encoder(img)\n",
    "            image_embeddings.append(encoded_img.cpu())\n",
    "            probs.append(prob.cpu())\n",
    "            captions.append(caption.cpu())\n",
    "\n",
    "    image_embeddings = torch.cat(image_embeddings).reshape(-1, 1024*8*8).numpy()\n",
    "    probs = torch.cat(probs).numpy()\n",
    "    captions = torch.cat(captions).numpy()\n",
    "    return image_embeddings, probs, captions\n",
    "\n",
    "def load_pca():\n",
    "    global pca_mean, pca_components\n",
    "    pca_mean = np.load('weights/pca_mean.npy')\n",
    "    pca_components = np.load('weights/pca_components.npy')\n",
    "\n",
    "def pca_transform(embeddings):\n",
    "    if type(pca_mean) == type(None) or type(pca_components) == type(None):\n",
    "        load_pca()\n",
    "    return np.dot(embeddings - pca_mean, pca_components.T)"
   ]
  },
  {
   "cell_type": "code",
   "execution_count": 4,
   "metadata": {},
   "outputs": [
    {
     "name": "stderr",
     "output_type": "stream",
     "text": [
      "100%|██████████| 1283/1283 [01:47<00:00, 11.98it/s]\n"
     ]
    }
   ],
   "source": [
    "train_image_embeddings, train_probs, train_captions = generate_image_embeddings(encoder, train_loader)\n"
   ]
  },
  {
   "cell_type": "code",
   "execution_count": 5,
   "metadata": {},
   "outputs": [
    {
     "data": {
      "text/plain": [
       "PCA(n_components=1024)"
      ]
     },
     "execution_count": 5,
     "metadata": {},
     "output_type": "execute_result"
    }
   ],
   "source": [
    "# pca training\n",
    "# pca = PCA(n_components=1024)\n",
    "# pca.fit(train_image_embeddings)\n",
    "# np.save('weights/pca_mean_14.npy', pca.mean_)\n",
    "# np.save('weights/pca_component_14.npy', pca.components_)"
   ]
  },
  {
   "cell_type": "code",
   "execution_count": 9,
   "metadata": {},
   "outputs": [
    {
     "name": "stderr",
     "output_type": "stream",
     "text": [
      "100%|██████████| 171/171 [00:12<00:00, 13.50it/s]\n",
      "100%|██████████| 257/257 [00:24<00:00, 10.52it/s]\n"
     ]
    }
   ],
   "source": [
    "val_image_embeddings, val_probs, val_captions = generate_image_embeddings(encoder, val_loader)\n",
    "test_image_embeddings, test_probs, test_captions = generate_image_embeddings(encoder, test_loader)"
   ]
  },
  {
   "cell_type": "code",
   "execution_count": 10,
   "metadata": {},
   "outputs": [],
   "source": [
    "train_image_embeddings = pca_transform(train_image_embeddings)\n",
    "val_image_embeddings = pca_transform(val_image_embeddings)\n",
    "test_image_embeddings = pca_transform(test_image_embeddings)"
   ]
  },
  {
   "cell_type": "code",
   "execution_count": 11,
   "metadata": {},
   "outputs": [
    {
     "data": {
      "text/plain": [
       "KNeighborsClassifier(n_neighbors=1)"
      ]
     },
     "execution_count": 11,
     "metadata": {},
     "output_type": "execute_result"
    }
   ],
   "source": [
    "# Fit pca transformed into knn\n",
    "indices = [*range(train_image_embeddings.shape[0])]\n",
    "one_nn = KNeighborsClassifier(n_neighbors=1)\n",
    "one_nn.fit(train_image_embeddings, indices)"
   ]
  },
  {
   "cell_type": "code",
   "execution_count": 12,
   "metadata": {},
   "outputs": [],
   "source": [
    "def predict(embeddings, decode=False):\n",
    "    captions = []\n",
    "    dists, indices = one_nn.kneighbors(embeddings)\n",
    "    for i in indices:\n",
    "        captions.append(train_captions[i])\n",
    "    captions = np.array(captions).reshape(embeddings.shape[0], -1)\n",
    "    if decode:\n",
    "        captions = tokenizer.decode(captions)\n",
    "    return captions\n",
    "\n",
    "def evaluate(true_captions, pred_captions):\n",
    "    true_df = []\n",
    "    pred_df = []\n",
    "\n",
    "    true_loader = DataLoader(\n",
    "        true_captions, \n",
    "        batch_size=18,\n",
    "        num_workers=0,\n",
    "        pin_memory=True\n",
    "    )\n",
    "    pred_loader = DataLoader(\n",
    "        pred_captions, \n",
    "        batch_size=18,\n",
    "        num_workers=0,\n",
    "        pin_memory=True\n",
    "    )\n",
    "\n",
    "    for t in tqdm(true_loader):\n",
    "        labels = chexpert(t, tokenizer)\n",
    "        true_df.append(labels)\n",
    "\n",
    "    for p in tqdm(pred_loader):\n",
    "        labels = chexpert(p, tokenizer)\n",
    "        pred_df.append(labels)\n",
    "    \n",
    "    true_df = pd.concat(true_df).reset_index(drop=True)\n",
    "    pred_df = pd.concat(pred_df).reset_index(drop=True)\n",
    "    return evaluation_matrix(true_df, pred_df)"
   ]
  },
  {
   "cell_type": "code",
   "execution_count": 13,
   "metadata": {},
   "outputs": [
    {
     "name": "stderr",
     "output_type": "stream",
     "text": [
      "100%|██████████| 76/76 [00:17<00:00,  4.40it/s]\n",
      "100%|██████████| 76/76 [00:15<00:00,  4.88it/s]\n"
     ]
    }
   ],
   "source": [
    "predicted_reports = predict(val_image_embeddings)\n",
    "val_eval_matrix = evaluate(val_captions, predicted_reports)"
   ]
  },
  {
   "cell_type": "code",
   "execution_count": 14,
   "metadata": {},
   "outputs": [
    {
     "data": {
      "text/html": [
       "<div>\n",
       "<style scoped>\n",
       "    .dataframe tbody tr th:only-of-type {\n",
       "        vertical-align: middle;\n",
       "    }\n",
       "\n",
       "    .dataframe tbody tr th {\n",
       "        vertical-align: top;\n",
       "    }\n",
       "\n",
       "    .dataframe thead th {\n",
       "        text-align: right;\n",
       "    }\n",
       "</style>\n",
       "<table border=\"1\" class=\"dataframe\">\n",
       "  <thead>\n",
       "    <tr style=\"text-align: right;\">\n",
       "      <th>Metrics</th>\n",
       "      <th>Recall</th>\n",
       "      <th>Precision</th>\n",
       "      <th>F1</th>\n",
       "    </tr>\n",
       "  </thead>\n",
       "  <tbody>\n",
       "    <tr>\n",
       "      <th>Enlarged Cardiomediastinum</th>\n",
       "      <td>0.7561</td>\n",
       "      <td>0.5354</td>\n",
       "      <td>0.6269</td>\n",
       "    </tr>\n",
       "    <tr>\n",
       "      <th>Cardiomegaly</th>\n",
       "      <td>0.6877</td>\n",
       "      <td>0.4688</td>\n",
       "      <td>0.5575</td>\n",
       "    </tr>\n",
       "    <tr>\n",
       "      <th>Lung Opacity</th>\n",
       "      <td>0.8177</td>\n",
       "      <td>0.5774</td>\n",
       "      <td>0.6769</td>\n",
       "    </tr>\n",
       "    <tr>\n",
       "      <th>Lung Lesion</th>\n",
       "      <td>0.3125</td>\n",
       "      <td>0.2817</td>\n",
       "      <td>0.2963</td>\n",
       "    </tr>\n",
       "    <tr>\n",
       "      <th>Edema</th>\n",
       "      <td>0.6385</td>\n",
       "      <td>0.4289</td>\n",
       "      <td>0.5131</td>\n",
       "    </tr>\n",
       "    <tr>\n",
       "      <th>Consolidation</th>\n",
       "      <td>0.6316</td>\n",
       "      <td>0.4352</td>\n",
       "      <td>0.5153</td>\n",
       "    </tr>\n",
       "    <tr>\n",
       "      <th>Pneumonia</th>\n",
       "      <td>0.4286</td>\n",
       "      <td>0.2903</td>\n",
       "      <td>0.3462</td>\n",
       "    </tr>\n",
       "    <tr>\n",
       "      <th>Atelectasis</th>\n",
       "      <td>0.6971</td>\n",
       "      <td>0.4515</td>\n",
       "      <td>0.5481</td>\n",
       "    </tr>\n",
       "    <tr>\n",
       "      <th>Pneumothorax</th>\n",
       "      <td>0.0364</td>\n",
       "      <td>0.0870</td>\n",
       "      <td>0.0513</td>\n",
       "    </tr>\n",
       "    <tr>\n",
       "      <th>Pleural Effusion</th>\n",
       "      <td>0.6516</td>\n",
       "      <td>0.4274</td>\n",
       "      <td>0.5162</td>\n",
       "    </tr>\n",
       "    <tr>\n",
       "      <th>Pleural Other</th>\n",
       "      <td>0.3274</td>\n",
       "      <td>0.2786</td>\n",
       "      <td>0.3010</td>\n",
       "    </tr>\n",
       "    <tr>\n",
       "      <th>Fracture</th>\n",
       "      <td>0.4683</td>\n",
       "      <td>0.3762</td>\n",
       "      <td>0.4172</td>\n",
       "    </tr>\n",
       "    <tr>\n",
       "      <th>Support Devices</th>\n",
       "      <td>0.5736</td>\n",
       "      <td>0.5468</td>\n",
       "      <td>0.5599</td>\n",
       "    </tr>\n",
       "    <tr>\n",
       "      <th>No Finding</th>\n",
       "      <td>0.6688</td>\n",
       "      <td>0.8465</td>\n",
       "      <td>0.7473</td>\n",
       "    </tr>\n",
       "    <tr>\n",
       "      <th>Macro</th>\n",
       "      <td>0.5497</td>\n",
       "      <td>0.4308</td>\n",
       "      <td>0.4767</td>\n",
       "    </tr>\n",
       "    <tr>\n",
       "      <th>Micro</th>\n",
       "      <td>0.6180</td>\n",
       "      <td>0.4926</td>\n",
       "      <td>0.5482</td>\n",
       "    </tr>\n",
       "  </tbody>\n",
       "</table>\n",
       "</div>"
      ],
      "text/plain": [
       "Metrics                     Recall  Precision      F1\n",
       "Enlarged Cardiomediastinum  0.7561     0.5354  0.6269\n",
       "Cardiomegaly                0.6877     0.4688  0.5575\n",
       "Lung Opacity                0.8177     0.5774  0.6769\n",
       "Lung Lesion                 0.3125     0.2817  0.2963\n",
       "Edema                       0.6385     0.4289  0.5131\n",
       "Consolidation               0.6316     0.4352  0.5153\n",
       "Pneumonia                   0.4286     0.2903  0.3462\n",
       "Atelectasis                 0.6971     0.4515  0.5481\n",
       "Pneumothorax                0.0364     0.0870  0.0513\n",
       "Pleural Effusion            0.6516     0.4274  0.5162\n",
       "Pleural Other               0.3274     0.2786  0.3010\n",
       "Fracture                    0.4683     0.3762  0.4172\n",
       "Support Devices             0.5736     0.5468  0.5599\n",
       "No Finding                  0.6688     0.8465  0.7473\n",
       "Macro                       0.5497     0.4308  0.4767\n",
       "Micro                       0.6180     0.4926  0.5482"
      ]
     },
     "execution_count": 14,
     "metadata": {},
     "output_type": "execute_result"
    }
   ],
   "source": [
    "val_eval_matrix.round(4)"
   ]
  },
  {
   "cell_type": "code",
   "execution_count": 15,
   "metadata": {},
   "outputs": [
    {
     "name": "stderr",
     "output_type": "stream",
     "text": [
      "100%|██████████| 114/114 [00:25<00:00,  4.40it/s]\n",
      "100%|██████████| 114/114 [00:23<00:00,  4.87it/s]\n"
     ]
    }
   ],
   "source": [
    "predicted_reports = predict(test_image_embeddings)\n",
    "test_eval_matrix = evaluate(test_captions, predicted_reports)"
   ]
  },
  {
   "cell_type": "code",
   "execution_count": 16,
   "metadata": {},
   "outputs": [
    {
     "data": {
      "text/html": [
       "<div>\n",
       "<style scoped>\n",
       "    .dataframe tbody tr th:only-of-type {\n",
       "        vertical-align: middle;\n",
       "    }\n",
       "\n",
       "    .dataframe tbody tr th {\n",
       "        vertical-align: top;\n",
       "    }\n",
       "\n",
       "    .dataframe thead th {\n",
       "        text-align: right;\n",
       "    }\n",
       "</style>\n",
       "<table border=\"1\" class=\"dataframe\">\n",
       "  <thead>\n",
       "    <tr style=\"text-align: right;\">\n",
       "      <th>Metrics</th>\n",
       "      <th>Recall</th>\n",
       "      <th>Precision</th>\n",
       "      <th>F1</th>\n",
       "    </tr>\n",
       "  </thead>\n",
       "  <tbody>\n",
       "    <tr>\n",
       "      <th>Enlarged Cardiomediastinum</th>\n",
       "      <td>0.7327</td>\n",
       "      <td>0.5988</td>\n",
       "      <td>0.6590</td>\n",
       "    </tr>\n",
       "    <tr>\n",
       "      <th>Cardiomegaly</th>\n",
       "      <td>0.6592</td>\n",
       "      <td>0.4993</td>\n",
       "      <td>0.5682</td>\n",
       "    </tr>\n",
       "    <tr>\n",
       "      <th>Lung Opacity</th>\n",
       "      <td>0.7802</td>\n",
       "      <td>0.6039</td>\n",
       "      <td>0.6808</td>\n",
       "    </tr>\n",
       "    <tr>\n",
       "      <th>Lung Lesion</th>\n",
       "      <td>0.2558</td>\n",
       "      <td>0.2273</td>\n",
       "      <td>0.2407</td>\n",
       "    </tr>\n",
       "    <tr>\n",
       "      <th>Edema</th>\n",
       "      <td>0.5986</td>\n",
       "      <td>0.4657</td>\n",
       "      <td>0.5239</td>\n",
       "    </tr>\n",
       "    <tr>\n",
       "      <th>Consolidation</th>\n",
       "      <td>0.6028</td>\n",
       "      <td>0.4477</td>\n",
       "      <td>0.5138</td>\n",
       "    </tr>\n",
       "    <tr>\n",
       "      <th>Pneumonia</th>\n",
       "      <td>0.4384</td>\n",
       "      <td>0.3147</td>\n",
       "      <td>0.3664</td>\n",
       "    </tr>\n",
       "    <tr>\n",
       "      <th>Atelectasis</th>\n",
       "      <td>0.6523</td>\n",
       "      <td>0.4639</td>\n",
       "      <td>0.5422</td>\n",
       "    </tr>\n",
       "    <tr>\n",
       "      <th>Pneumothorax</th>\n",
       "      <td>0.1304</td>\n",
       "      <td>0.1500</td>\n",
       "      <td>0.1395</td>\n",
       "    </tr>\n",
       "    <tr>\n",
       "      <th>Pleural Effusion</th>\n",
       "      <td>0.6099</td>\n",
       "      <td>0.4333</td>\n",
       "      <td>0.5067</td>\n",
       "    </tr>\n",
       "    <tr>\n",
       "      <th>Pleural Other</th>\n",
       "      <td>0.3295</td>\n",
       "      <td>0.3024</td>\n",
       "      <td>0.3154</td>\n",
       "    </tr>\n",
       "    <tr>\n",
       "      <th>Fracture</th>\n",
       "      <td>0.4365</td>\n",
       "      <td>0.3809</td>\n",
       "      <td>0.4068</td>\n",
       "    </tr>\n",
       "    <tr>\n",
       "      <th>Support Devices</th>\n",
       "      <td>0.5816</td>\n",
       "      <td>0.5549</td>\n",
       "      <td>0.5679</td>\n",
       "    </tr>\n",
       "    <tr>\n",
       "      <th>No Finding</th>\n",
       "      <td>0.6978</td>\n",
       "      <td>0.8234</td>\n",
       "      <td>0.7554</td>\n",
       "    </tr>\n",
       "    <tr>\n",
       "      <th>Macro</th>\n",
       "      <td>0.5361</td>\n",
       "      <td>0.4476</td>\n",
       "      <td>0.4848</td>\n",
       "    </tr>\n",
       "    <tr>\n",
       "      <th>Micro</th>\n",
       "      <td>0.6052</td>\n",
       "      <td>0.5086</td>\n",
       "      <td>0.5527</td>\n",
       "    </tr>\n",
       "  </tbody>\n",
       "</table>\n",
       "</div>"
      ],
      "text/plain": [
       "Metrics                     Recall  Precision      F1\n",
       "Enlarged Cardiomediastinum  0.7327     0.5988  0.6590\n",
       "Cardiomegaly                0.6592     0.4993  0.5682\n",
       "Lung Opacity                0.7802     0.6039  0.6808\n",
       "Lung Lesion                 0.2558     0.2273  0.2407\n",
       "Edema                       0.5986     0.4657  0.5239\n",
       "Consolidation               0.6028     0.4477  0.5138\n",
       "Pneumonia                   0.4384     0.3147  0.3664\n",
       "Atelectasis                 0.6523     0.4639  0.5422\n",
       "Pneumothorax                0.1304     0.1500  0.1395\n",
       "Pleural Effusion            0.6099     0.4333  0.5067\n",
       "Pleural Other               0.3295     0.3024  0.3154\n",
       "Fracture                    0.4365     0.3809  0.4068\n",
       "Support Devices             0.5816     0.5549  0.5679\n",
       "No Finding                  0.6978     0.8234  0.7554\n",
       "Macro                       0.5361     0.4476  0.4848\n",
       "Micro                       0.6052     0.5086  0.5527"
      ]
     },
     "execution_count": 16,
     "metadata": {},
     "output_type": "execute_result"
    }
   ],
   "source": [
    "test_eval_matrix.round(4)"
   ]
  }
 ],
 "metadata": {
  "interpreter": {
   "hash": "c5b2b1eb0b4180dccfbf3e31c6f887b3086317eead5a7f5406a6958b92b74dfc"
  },
  "kernelspec": {
   "display_name": "Python 3.8.12 ('research_rl')",
   "language": "python",
   "name": "python3"
  },
  "language_info": {
   "codemirror_mode": {
    "name": "ipython",
    "version": 3
   },
   "file_extension": ".py",
   "mimetype": "text/x-python",
   "name": "python",
   "nbconvert_exporter": "python",
   "pygments_lexer": "ipython3",
   "version": "3.8.12"
  },
  "orig_nbformat": 4
 },
 "nbformat": 4,
 "nbformat_minor": 2
}
