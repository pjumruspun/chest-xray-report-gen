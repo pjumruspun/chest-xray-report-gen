{
 "cells": [
  {
   "cell_type": "code",
   "execution_count": 2,
   "metadata": {},
   "outputs": [],
   "source": [
    "from PIL import Image\n",
    "import pandas as pd\n",
    "from configs import configs\n",
    "from tqdm import tqdm"
   ]
  },
  {
   "cell_type": "code",
   "execution_count": 2,
   "metadata": {},
   "outputs": [],
   "source": [
    "train = pd.read_csv(configs['train_csv'])\n",
    "val = pd.read_csv(configs['val_csv'])\n",
    "test = pd.read_csv(configs['test_csv'])\n",
    "\n",
    "df = pd.concat([train, val, test]).reset_index()\n",
    "img_paths = df['img_path'].values"
   ]
  },
  {
   "cell_type": "code",
   "execution_count": 3,
   "metadata": {},
   "outputs": [
    {
     "name": "stdout",
     "output_type": "stream",
     "text": [
      "(273585,)\n"
     ]
    }
   ],
   "source": [
    "all_df = pd.read_csv(configs['mimic_csv_file_path'])\n",
    "img_paths = all_df['img_path'].values\n",
    "print(img_paths.shape)"
   ]
  },
  {
   "cell_type": "code",
   "execution_count": 4,
   "metadata": {},
   "outputs": [],
   "source": [
    "def new_name(p):\n",
    "    return ''.join(p.split('.')[:-1]) + '.256.' + p.split('.')[-1]\n",
    "\n",
    "def new_path(p):\n",
    "    name = p.split('/')[-1]\n",
    "    return configs['mimic_dir'] + 'images256/' + name"
   ]
  },
  {
   "cell_type": "code",
   "execution_count": 6,
   "metadata": {},
   "outputs": [
    {
     "data": {
      "text/plain": [
       "'mimic_cxr/images512/p10/p10000032/s50414267/02aa804e-bde0afdd-112c0b34-7bc16630-4e384014.png'"
      ]
     },
     "execution_count": 6,
     "metadata": {},
     "output_type": "execute_result"
    }
   ],
   "source": [
    "img_paths[0]"
   ]
  },
  {
   "cell_type": "code",
   "execution_count": 5,
   "metadata": {},
   "outputs": [],
   "source": [
    "all_df['img_path_256'] = all_df['img_path'].apply(new_path)"
   ]
  },
  {
   "cell_type": "code",
   "execution_count": 12,
   "metadata": {},
   "outputs": [
    {
     "name": "stdout",
     "output_type": "stream",
     "text": [
      "file not found\n"
     ]
    }
   ],
   "source": [
    "try:\n",
    "    Image.open(all_df.iloc[150710]['img_path'])\n",
    "\n",
    "    "
   ]
  },
  {
   "cell_type": "code",
   "execution_count": 14,
   "metadata": {},
   "outputs": [
    {
     "name": "stderr",
     "output_type": "stream",
     "text": [
      "14it [00:00, 138.99it/s]"
     ]
    },
    {
     "name": "stdout",
     "output_type": "stream",
     "text": [
      "index 0: mimic_cxr/images512/p15/p15517908/s50255536/4ec69a3d-c26ee4b8-99157c7d-cad8faaf-4b0fc113.png not found\n",
      "index 1: mimic_cxr/images512/p15/p15517908/s50255536/caea02bd-dcd9808d-d596f848-3ddf200a-037dd6d0.png not found\n",
      "index 2: mimic_cxr/images512/p15/p15517908/s51770359/02798464-0d35345f-c4c6f074-9f2b8fcc-a27d7574.png not found\n",
      "index 3: mimic_cxr/images512/p15/p15517908/s51770359/2ddc0f1e-f9f2b601-bebeb8c1-b96d3d8c-60051bdd.png not found\n",
      "index 4: mimic_cxr/images512/p15/p15517908/s51770359/45be2b0d-ad5e7b0f-62861dc2-8f7a8f04-32b6d560.png not found\n",
      "index 5: mimic_cxr/images512/p15/p15517908/s52506750/b913b602-e420f788-f8ae2e56-b4437002-c1953512.png not found\n"
     ]
    },
    {
     "name": "stderr",
     "output_type": "stream",
     "text": [
      "98749it [23:44, 78.06it/s]"
     ]
    },
    {
     "name": "stdout",
     "output_type": "stream",
     "text": [
      "index 98735: mimic_cxr/images512/p19/p19124994/s53492226/25806a33-744e8586-0cc8cdc8-ed83d82d-d7dee178.png not found\n",
      "index 98737: mimic_cxr/images512/p19/p19124994/s53492226/d82fae25-9c068173-624b6e7f-5c5752c5-25f662e5.png not found\n"
     ]
    },
    {
     "name": "stderr",
     "output_type": "stream",
     "text": [
      "122875it [29:26, 69.57it/s]\n"
     ]
    }
   ],
   "source": [
    "file_not_found_id = []\n",
    "\n",
    "for i, (p, new_p) in tqdm(enumerate(zip(all_df.iloc[150710:]['img_path'], all_df.iloc[150710:]['img_path_256']))):\n",
    "    try:\n",
    "        im = Image.open(p)\n",
    "    except FileNotFoundError:\n",
    "        print(f\"index {i}: {p} not found\")\n",
    "        file_not_found_id.append(i+150710)\n",
    "        continue\n",
    "    im = im.resize((256, 256))\n",
    "    im.save(new_p)"
   ]
  },
  {
   "cell_type": "code",
   "execution_count": 19,
   "metadata": {},
   "outputs": [
    {
     "data": {
      "text/plain": [
       "[150710, 150711, 150712, 150713, 150714, 150715, 249445, 249447]"
      ]
     },
     "execution_count": 19,
     "metadata": {},
     "output_type": "execute_result"
    }
   ],
   "source": [
    "file_not_found_id"
   ]
  },
  {
   "cell_type": "code",
   "execution_count": 21,
   "metadata": {},
   "outputs": [],
   "source": [
    "dropped = pd.concat([\n",
    "    all_df.iloc[:150710],\n",
    "    all_df.iloc[150716:249445],\n",
    "    all_df.iloc[249446],\n",
    "    all_df.iloc[249448:],\n",
    "])"
   ]
  },
  {
   "cell_type": "code",
   "execution_count": 34,
   "metadata": {},
   "outputs": [
    {
     "data": {
      "text/plain": [
       "Index([             0,   'No Finding',   'Unnamed: 0', 'ViewPosition',\n",
       "           'dicom_id',     'img_path', 'img_path_256',       'report',\n",
       "        'report_path',     'study_id',   'subject_id'],\n",
       "      dtype='object')"
      ]
     },
     "execution_count": 34,
     "metadata": {},
     "output_type": "execute_result"
    }
   ],
   "source": [
    "dropped.columns"
   ]
  },
  {
   "cell_type": "code",
   "execution_count": 36,
   "metadata": {},
   "outputs": [],
   "source": [
    "dropped = dropped.drop(columns=[0, 'Unnamed: 0'], axis=1)"
   ]
  },
  {
   "cell_type": "code",
   "execution_count": 37,
   "metadata": {},
   "outputs": [],
   "source": [
    "dropped.to_csv(configs['mimic_csv_file_path'], index=False)"
   ]
  },
  {
   "cell_type": "code",
   "execution_count": 19,
   "metadata": {},
   "outputs": [
    {
     "name": "stderr",
     "output_type": "stream",
     "text": [
      "100%|██████████| 13679/13679 [02:46<00:00, 82.32it/s]\n"
     ]
    }
   ],
   "source": [
    "for p in tqdm(img_paths):\n",
    "    im = Image.open(p)\n",
    "    im = im.resize((256, 256))\n",
    "    new_p = new_name(p)\n",
    "    im.save(new_p)"
   ]
  },
  {
   "cell_type": "code",
   "execution_count": 28,
   "metadata": {},
   "outputs": [],
   "source": [
    "train['img_path_256'] = train['img_path'].apply(new_name)\n",
    "val['img_path_256'] = val['img_path'].apply(new_name)\n",
    "test['img_path_256'] = test['img_path'].apply(new_name)"
   ]
  },
  {
   "cell_type": "code",
   "execution_count": 32,
   "metadata": {},
   "outputs": [],
   "source": [
    "train.to_csv(configs['train_csv'], index=False)\n",
    "val.to_csv(configs['val_csv'], index=False)\n",
    "test.to_csv(configs['test_csv'], index=False)"
   ]
  }
 ],
 "metadata": {
  "interpreter": {
   "hash": "c5b2b1eb0b4180dccfbf3e31c6f887b3086317eead5a7f5406a6958b92b74dfc"
  },
  "kernelspec": {
   "display_name": "Python 3.8.12 ('research_rl')",
   "language": "python",
   "name": "python3"
  },
  "language_info": {
   "codemirror_mode": {
    "name": "ipython",
    "version": 3
   },
   "file_extension": ".py",
   "mimetype": "text/x-python",
   "name": "python",
   "nbconvert_exporter": "python",
   "pygments_lexer": "ipython3",
   "version": "3.8.12"
  },
  "orig_nbformat": 4
 },
 "nbformat": 4,
 "nbformat_minor": 2
}
