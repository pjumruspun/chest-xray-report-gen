{
 "cells": [
  {
   "cell_type": "code",
   "execution_count": 18,
   "metadata": {},
   "outputs": [],
   "source": [
    "from PIL import Image\n",
    "import pandas as pd\n",
    "from configs import configs\n",
    "from tqdm import tqdm"
   ]
  },
  {
   "cell_type": "code",
   "execution_count": 26,
   "metadata": {},
   "outputs": [],
   "source": [
    "train = pd.read_csv(configs['train_csv'])\n",
    "val = pd.read_csv(configs['val_csv'])\n",
    "test = pd.read_csv(configs['test_csv'])\n",
    "\n",
    "df = pd.concat([train, val, test]).reset_index()\n",
    "img_paths = df['img_path'].values"
   ]
  },
  {
   "cell_type": "code",
   "execution_count": 27,
   "metadata": {},
   "outputs": [],
   "source": [
    "def new_name(p):\n",
    "    return ''.join(p.split('.')[:-1]) + '.256.' + p.split('.')[-1]"
   ]
  },
  {
   "cell_type": "code",
   "execution_count": 10,
   "metadata": {},
   "outputs": [
    {
     "data": {
      "text/plain": [
       "'mimic_cxr/images512/p13/p13325598/s54306689/536f53a6-37a34ab5-43d0ad45-05a7e099-36aee2da.png'"
      ]
     },
     "execution_count": 10,
     "metadata": {},
     "output_type": "execute_result"
    }
   ],
   "source": [
    "img_paths[0]"
   ]
  },
  {
   "cell_type": "code",
   "execution_count": 15,
   "metadata": {},
   "outputs": [
    {
     "data": {
      "text/plain": [
       "'mimic_cxr/images512/p13/p13325598/s54306689/536f53a6-37a34ab5-43d0ad45-05a7e099-36aee2da.256.png'"
      ]
     },
     "execution_count": 15,
     "metadata": {},
     "output_type": "execute_result"
    }
   ],
   "source": [
    "new_name(img_paths[0])"
   ]
  },
  {
   "cell_type": "code",
   "execution_count": 19,
   "metadata": {},
   "outputs": [
    {
     "name": "stderr",
     "output_type": "stream",
     "text": [
      "100%|██████████| 13679/13679 [02:46<00:00, 82.32it/s]\n"
     ]
    }
   ],
   "source": [
    "for p in tqdm(img_paths):\n",
    "    im = Image.open(p)\n",
    "    im = im.resize((256, 256))\n",
    "    new_p = new_name(p)\n",
    "    im.save(new_p)"
   ]
  },
  {
   "cell_type": "code",
   "execution_count": 28,
   "metadata": {},
   "outputs": [],
   "source": [
    "train['img_path_256'] = train['img_path'].apply(new_name)\n",
    "val['img_path_256'] = val['img_path'].apply(new_name)\n",
    "test['img_path_256'] = test['img_path'].apply(new_name)"
   ]
  },
  {
   "cell_type": "code",
   "execution_count": 32,
   "metadata": {},
   "outputs": [],
   "source": [
    "train.to_csv(configs['train_csv'], index=False)\n",
    "val.to_csv(configs['val_csv'], index=False)\n",
    "test.to_csv(configs['test_csv'], index=False)"
   ]
  }
 ],
 "metadata": {
  "interpreter": {
   "hash": "c5b2b1eb0b4180dccfbf3e31c6f887b3086317eead5a7f5406a6958b92b74dfc"
  },
  "kernelspec": {
   "display_name": "Python 3.8.12 ('research_rl')",
   "language": "python",
   "name": "python3"
  },
  "language_info": {
   "codemirror_mode": {
    "name": "ipython",
    "version": 3
   },
   "file_extension": ".py",
   "mimetype": "text/x-python",
   "name": "python",
   "nbconvert_exporter": "python",
   "pygments_lexer": "ipython3",
   "version": "3.8.12"
  },
  "orig_nbformat": 4
 },
 "nbformat": 4,
 "nbformat_minor": 2
}
