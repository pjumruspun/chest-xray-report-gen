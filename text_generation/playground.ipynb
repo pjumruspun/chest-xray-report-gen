{
 "cells": [
  {
   "cell_type": "code",
   "execution_count": 1,
   "metadata": {},
   "outputs": [],
   "source": [
    "import pandas as pd\n",
    "import numpy as np\n",
    "from configs import configs"
   ]
  },
  {
   "cell_type": "code",
   "execution_count": 3,
   "metadata": {},
   "outputs": [],
   "source": [
    "df = pd.read_csv(configs['train_label_csv'])"
   ]
  },
  {
   "cell_type": "code",
   "execution_count": 6,
   "metadata": {},
   "outputs": [
    {
     "data": {
      "text/plain": [
       "Enlarged Cardiomediastinum    0.3229\n",
       "Cardiomegaly                  0.2740\n",
       "Lung Opacity                  0.3183\n",
       "Lung Lesion                   0.0895\n",
       "Edema                         0.1916\n",
       "Consolidation                 0.1994\n",
       "Pneumonia                     0.1609\n",
       "Atelectasis                   0.2230\n",
       "Pneumothorax                  0.0352\n",
       "Pleural Effusion              0.1930\n",
       "Pleural Other                 0.1703\n",
       "Fracture                      0.2555\n",
       "Support Devices               0.2445\n",
       "dtype: float64"
      ]
     },
     "execution_count": 6,
     "metadata": {},
     "output_type": "execute_result"
    }
   ],
   "source": [
    "df.mean().round(4)"
   ]
  },
  {
   "cell_type": "code",
   "execution_count": 3,
   "metadata": {},
   "outputs": [],
   "source": [
    "df = pd.read_csv(configs['mimic_csv_file_path'])"
   ]
  },
  {
   "cell_type": "code",
   "execution_count": 16,
   "metadata": {},
   "outputs": [],
   "source": [
    "word_count = df['report'].apply(lambda x: len(x.split()))"
   ]
  },
  {
   "cell_type": "code",
   "execution_count": 17,
   "metadata": {},
   "outputs": [
    {
     "data": {
      "text/plain": [
       "count    273585.000000\n",
       "mean         55.623806\n",
       "std          25.302502\n",
       "min           3.000000\n",
       "25%          39.000000\n",
       "50%          51.000000\n",
       "75%          67.000000\n",
       "max         402.000000\n",
       "Name: report, dtype: float64"
      ]
     },
     "execution_count": 17,
     "metadata": {},
     "output_type": "execute_result"
    }
   ],
   "source": [
    "word_count.describe()"
   ]
  },
  {
   "cell_type": "code",
   "execution_count": 18,
   "metadata": {},
   "outputs": [
    {
     "data": {
      "text/plain": [
       "<AxesSubplot:>"
      ]
     },
     "execution_count": 18,
     "metadata": {},
     "output_type": "execute_result"
    },
    {
     "data": {
      "image/png": "[encoded data removed]",
      "text/plain": [
       "<Figure size 432x288 with 1 Axes>"
      ]
     },
     "metadata": {
      "needs_background": "light"
     },
     "output_type": "display_data"
    }
   ],
   "source": [
    "word_count.hist(bins=50)"
   ]
  },
  {
   "cell_type": "code",
   "execution_count": 22,
   "metadata": {},
   "outputs": [
    {
     "data": {
      "text/plain": [
       "216.0"
      ]
     },
     "execution_count": 22,
     "metadata": {},
     "output_type": "execute_result"
    }
   ],
   "source": [
    "word_count.quantile(q=0.999)"
   ]
  },
  {
   "cell_type": "code",
   "execution_count": 29,
   "metadata": {},
   "outputs": [],
   "source": [
    "pca_mean = None\n",
    "pca_components = None\n",
    "def load_pca():\n",
    "    global pca_mean, pca_components\n",
    "    pca_mean = np.load('weights/pca_mean.npy')\n",
    "    pca_components = np.load('weights/pca_components.npy')\n",
    "\n",
    "load_pca()"
   ]
  },
  {
   "cell_type": "code",
   "execution_count": 30,
   "metadata": {},
   "outputs": [
    {
     "data": {
      "text/plain": [
       "(65536,)"
      ]
     },
     "execution_count": 30,
     "metadata": {},
     "output_type": "execute_result"
    }
   ],
   "source": [
    "pca_mean.shape"
   ]
  },
  {
   "cell_type": "code",
   "execution_count": 31,
   "metadata": {},
   "outputs": [
    {
     "data": {
      "text/plain": [
       "(1024, 65536)"
      ]
     },
     "execution_count": 31,
     "metadata": {},
     "output_type": "execute_result"
    }
   ],
   "source": [
    "pca_components.shape"
   ]
  },
  {
   "cell_type": "code",
   "execution_count": 114,
   "metadata": {},
   "outputs": [],
   "source": [
    "# Benchmark dataloader\n",
    "from torch.utils.data import DataLoader\n",
    "from dataset import ChestXRayCaptionDataset, MultiLabelDataset\n",
    "from utils import train_transform, evaluate_transform, normalize\n",
    "from tqdm import tqdm\n",
    "import torchvision.transforms as transforms"
   ]
  },
  {
   "cell_type": "code",
   "execution_count": 111,
   "metadata": {},
   "outputs": [],
   "source": [
    "resize_transform = transforms.Compose([\n",
    "    transforms.Resize((256, 256)),\n",
    "    transforms.ToTensor(),\n",
    "    transforms.RandomHorizontalFlip(p=0.5),\n",
    "    normalize\n",
    "])"
   ]
  },
  {
   "cell_type": "code",
   "execution_count": 113,
   "metadata": {},
   "outputs": [
    {
     "name": "stderr",
     "output_type": "stream",
     "text": [
      "  1%|▏         | 500/34197 [00:12<14:16, 39.35it/s]\n"
     ]
    }
   ],
   "source": [
    "data_loader = DataLoader(\n",
    "    ChestXRayCaptionDataset(\n",
    "        'all',\n",
    "        transform=train_transform\n",
    "    ),\n",
    "    batch_size=8,\n",
    "    num_workers=0,\n",
    "    pin_memory=True\n",
    ")\n",
    "\n",
    "for i, obj in enumerate(tqdm(data_loader)):\n",
    "    if i == 500:\n",
    "        break"
   ]
  },
  {
   "cell_type": "code",
   "execution_count": 116,
   "metadata": {},
   "outputs": [
    {
     "name": "stderr",
     "output_type": "stream",
     "text": [
      "  1%|▏         | 500/34197 [00:17<19:21, 29.00it/s] \n"
     ]
    }
   ],
   "source": [
    "data_loader = DataLoader(\n",
    "    ChestXRayCaptionDataset(\n",
    "        'all',\n",
    "        transform=train_transform\n",
    "    ),\n",
    "    batch_size=8,\n",
    "    num_workers=0,\n",
    "    pin_memory=True\n",
    ")\n",
    "\n",
    "for i, obj in enumerate(tqdm(data_loader)):\n",
    "    img = obj[0].cuda()\n",
    "    reports = obj[1].cuda()\n",
    "    if i == 500:\n",
    "        break"
   ]
  },
  {
   "cell_type": "code",
   "execution_count": 115,
   "metadata": {},
   "outputs": [
    {
     "name": "stderr",
     "output_type": "stream",
     "text": [
      " 39%|███▉      | 500/1283 [00:12<00:19, 40.62it/s]\n"
     ]
    }
   ],
   "source": [
    "\n",
    "\n",
    "data_loader = DataLoader(\n",
    "    MultiLabelDataset(\n",
    "        'train',\n",
    "        transform=train_transform,\n",
    "    ),\n",
    "    batch_size=8,\n",
    "    num_workers=0,\n",
    "    pin_memory=True\n",
    ")\n",
    "\n",
    "for i, obj in enumerate(tqdm(data_loader)):\n",
    "    if i == 500:\n",
    "        break"
   ]
  },
  {
   "cell_type": "code",
   "execution_count": 3,
   "metadata": {},
   "outputs": [],
   "source": [
    "train_df = pd.read_csv(configs['train_csv'])\n",
    "val_df = pd.read_csv(configs['val_csv'])\n",
    "test_df = pd.read_csv(configs['test_csv'])"
   ]
  },
  {
   "cell_type": "code",
   "execution_count": 12,
   "metadata": {},
   "outputs": [],
   "source": [
    "def transform_name(p):\n",
    "    return configs['mimic_dir'] + 'images256/' + p.split('/')[-1]\n",
    "\n"
   ]
  },
  {
   "cell_type": "code",
   "execution_count": 15,
   "metadata": {},
   "outputs": [],
   "source": [
    "train_df['img_path_256'] = train_df['img_path'].apply(transform_name)\n",
    "val_df['img_path_256'] = val_df['img_path'].apply(transform_name)\n",
    "test_df['img_path_256'] = test_df['img_path'].apply(transform_name)"
   ]
  },
  {
   "cell_type": "code",
   "execution_count": 17,
   "metadata": {},
   "outputs": [],
   "source": [
    "train_df.to_csv(configs['train_csv'], index=False)\n",
    "val_df.to_csv(configs['val_csv'], index=False)\n",
    "test_df.to_csv(configs['test_csv'], index=False)"
   ]
  }
 ],
 "metadata": {
  "interpreter": {
   "hash": "c5b2b1eb0b4180dccfbf3e31c6f887b3086317eead5a7f5406a6958b92b74dfc"
  },
  "kernelspec": {
   "display_name": "Python 3.8.12 ('research_rl')",
   "language": "python",
   "name": "python3"
  },
  "language_info": {
   "codemirror_mode": {
    "name": "ipython",
    "version": 3
   },
   "file_extension": ".py",
   "mimetype": "text/x-python",
   "name": "python",
   "nbconvert_exporter": "python",
   "pygments_lexer": "ipython3",
   "version": "3.8.12"
  },
  "orig_nbformat": 4
 },
 "nbformat": 4,
 "nbformat_minor": 2
}
